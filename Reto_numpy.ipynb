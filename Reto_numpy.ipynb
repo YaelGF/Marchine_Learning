{
  "nbformat": 4,
  "nbformat_minor": 0,
  "metadata": {
    "colab": {
      "provenance": [],
      "authorship_tag": "ABX9TyMgTuJ0jepX7lp23VzwAhwy",
      "include_colab_link": true
    },
    "kernelspec": {
      "name": "python3",
      "display_name": "Python 3"
    },
    "language_info": {
      "name": "python"
    }
  },
  "cells": [
    {
      "cell_type": "markdown",
      "metadata": {
        "id": "view-in-github",
        "colab_type": "text"
      },
      "source": [
        "<a href=\"https://colab.research.google.com/github/YaelGF/Marchine_Learning/blob/main/Reto_numpy.ipynb\" target=\"_parent\"><img src=\"https://colab.research.google.com/assets/colab-badge.svg\" alt=\"Open In Colab\"/></a>"
      ]
    },
    {
      "cell_type": "markdown",
      "source": [
        "# Reto Numpy \n",
        "## Elaborado por: Yael Garcia Franco\n",
        "### Del grupo: IDGS91\n",
        "### Fecha: 11/10/2022\n",
        "#### En la universidad \"ACME\" se desea calcular el promedio de cada uno de los alumnos, y el área de control escolar genero el archivo calificaciones_v1.csv para calcular el promedio por alumno, y tener un archivo con formato similar al archivo calificaciones_promedio_v1.csv."
      ],
      "metadata": {
        "id": "Yx6Y2vz5fqhV"
      }
    },
    {
      "cell_type": "code",
      "execution_count": null,
      "metadata": {
        "id": "KjyJcGAWAXYP"
      },
      "outputs": [],
      "source": [
        "import numpy as np"
      ]
    },
    {
      "cell_type": "markdown",
      "source": [
        "Entre cuantas columnas sera dividido el CSV, tomando en cuenta en que indices se repite el primer encabezado y la resta de estos dos daba como resultado el numero de columnas.\n",
        "El muestreo hace referencia a cuantos campos se mostraran como ejemplo para no estar mostrando los 48 registros totales del archivo."
      ],
      "metadata": {
        "id": "pu_0kXtrgO8E"
      }
    },
    {
      "cell_type": "code",
      "source": [
        "columns = 9\n",
        "muestreo = 10"
      ],
      "metadata": {
        "id": "qMBHf5RNgOWO"
      },
      "execution_count": null,
      "outputs": []
    },
    {
      "cell_type": "markdown",
      "source": [
        "De CSV a narray de numpy"
      ],
      "metadata": {
        "id": "bQMVkWUofq5y"
      }
    },
    {
      "cell_type": "code",
      "source": [
        "arrayCSV = np.genfromtxt(\"calificaciones_v1.csv\", delimiter = ',',dtype=str)\n",
        "arrayCSV[:muestreo]"
      ],
      "metadata": {
        "id": "6H-apyvYAekW",
        "colab": {
          "base_uri": "https://localhost:8080/"
        },
        "outputId": "9bd74dea-57b7-46b8-f335-e2d5457c26ba"
      },
      "execution_count": null,
      "outputs": [
        {
          "output_type": "execute_result",
          "data": {
            "text/plain": [
              "array([['matricula', '11111111'],\n",
              "       ['nombre', 'Alumno 1'],\n",
              "       ['grupo', 'TI11'],\n",
              "       ['Materia 1', '1'],\n",
              "       ['Materia 2', '8'],\n",
              "       ['Materia 3', '1'],\n",
              "       ['Materia 4', '7'],\n",
              "       ['Materia 5', '2'],\n",
              "       ['estado', 'regular'],\n",
              "       ['matricula', '11111112']], dtype='<U9')"
            ]
          },
          "metadata": {},
          "execution_count": 3
        }
      ]
    },
    {
      "cell_type": "markdown",
      "source": [
        "Permutación del array para pasar de un array de (n * 2) a \n",
        "(2 * n).\n",
        "Para tener los encabezados hasta arriba para su siguiente eliminacion y en otra matriz tener los resultados crudos"
      ],
      "metadata": {
        "id": "Opig8wLBfsgI"
      }
    },
    {
      "cell_type": "code",
      "source": [
        "arraySwap = arrayCSV.swapaxes(0,1)\n",
        "arraySwap[0][:muestreo]"
      ],
      "metadata": {
        "id": "WYQVfPDSc2vL",
        "colab": {
          "base_uri": "https://localhost:8080/"
        },
        "outputId": "d65df3dc-d890-4b57-8b7d-0a19e7b58627"
      },
      "execution_count": null,
      "outputs": [
        {
          "output_type": "execute_result",
          "data": {
            "text/plain": [
              "array(['matricula', 'nombre', 'grupo', 'Materia 1', 'Materia 2',\n",
              "       'Materia 3', 'Materia 4', 'Materia 5', 'estado', 'matricula'],\n",
              "      dtype='<U9')"
            ]
          },
          "metadata": {},
          "execution_count": 4
        }
      ]
    },
    {
      "cell_type": "markdown",
      "source": [
        "Borrado de los encabezados del archivo"
      ],
      "metadata": {
        "id": "OJfGK4o3frQx"
      }
    },
    {
      "cell_type": "code",
      "source": [
        "arrayData = np.delete(arraySwap,0,0)\n",
        "arrayData[0][:muestreo]"
      ],
      "metadata": {
        "id": "CBzTwzP9J1HF",
        "colab": {
          "base_uri": "https://localhost:8080/"
        },
        "outputId": "82c5a50c-e3e4-439f-e60b-384a4305a61a"
      },
      "execution_count": null,
      "outputs": [
        {
          "output_type": "execute_result",
          "data": {
            "text/plain": [
              "array(['11111111', 'Alumno 1', 'TI11', '1', '8', '1', '7', '2', 'regular',\n",
              "       '11111112'], dtype='<U9')"
            ]
          },
          "metadata": {},
          "execution_count": 5
        }
      ]
    },
    {
      "cell_type": "markdown",
      "source": [
        "Reestructuración del array para obtener  un array de (n * columns (en este caso 9))"
      ],
      "metadata": {
        "id": "6imfBEyFfthO"
      }
    },
    {
      "cell_type": "code",
      "source": [
        "arrayData = arrayData.reshape(int(arrayData.size/columns),columns)\n",
        "arrayData[:muestreo]"
      ],
      "metadata": {
        "id": "LMHQxbalKyGQ",
        "colab": {
          "base_uri": "https://localhost:8080/"
        },
        "outputId": "cffbf313-b01d-45d9-cc06-a7673158e375"
      },
      "execution_count": null,
      "outputs": [
        {
          "output_type": "execute_result",
          "data": {
            "text/plain": [
              "array([['11111111', 'Alumno 1', 'TI11', '1', '8', '1', '7', '2',\n",
              "        'regular'],\n",
              "       ['11111112', 'Alumno 2', 'TI11', '10', '7', '1', '8', '5',\n",
              "        'regular'],\n",
              "       ['11111113', 'Alumno 3', 'TI11', '4', '1', '1', '3', '0',\n",
              "        'regular'],\n",
              "       ['11111114', 'Alumno 4', 'TI11', '5', '4', '3', '2', '7',\n",
              "        'regular'],\n",
              "       ['11111115', 'Alumno 5', 'TI11', '9', '10', '3', '9', '2',\n",
              "        'regular'],\n",
              "       ['11111116', 'Alumno 6', 'TI11', '1', '3', '8', '1', '7',\n",
              "        'regular'],\n",
              "       ['11111117', 'Alumno 7', 'TI11', '4', '7', '1', '6', '5',\n",
              "        'regular'],\n",
              "       ['11111118', 'Alumno 8', 'TI11', '10', '1', '7', '10', '0',\n",
              "        'regular'],\n",
              "       ['11111119', 'Alumno 9', 'TI11', '5', '5', '4', '0', '3',\n",
              "        'regular'],\n",
              "       ['11111120', 'Alumno 10', 'TI11', '5', '7', '3', '3', '4',\n",
              "        'regular']], dtype='<U9')"
            ]
          },
          "metadata": {},
          "execution_count": 6
        }
      ]
    },
    {
      "cell_type": "markdown",
      "source": [
        "Convertir el array en lista para su manipulación, para la agragacion de nuevas columnas entre otras cosas"
      ],
      "metadata": {
        "id": "FdPCgUhOfuQi"
      }
    },
    {
      "cell_type": "code",
      "source": [
        "data = arrayData.tolist()\n",
        "data[:muestreo]"
      ],
      "metadata": {
        "id": "nW4toNWzKyZ3",
        "colab": {
          "base_uri": "https://localhost:8080/"
        },
        "outputId": "067f7b3f-7b6e-4d69-86f7-8cc21b4f17bb"
      },
      "execution_count": null,
      "outputs": [
        {
          "output_type": "execute_result",
          "data": {
            "text/plain": [
              "[['11111111', 'Alumno 1', 'TI11', '1', '8', '1', '7', '2', 'regular'],\n",
              " ['11111112', 'Alumno 2', 'TI11', '10', '7', '1', '8', '5', 'regular'],\n",
              " ['11111113', 'Alumno 3', 'TI11', '4', '1', '1', '3', '0', 'regular'],\n",
              " ['11111114', 'Alumno 4', 'TI11', '5', '4', '3', '2', '7', 'regular'],\n",
              " ['11111115', 'Alumno 5', 'TI11', '9', '10', '3', '9', '2', 'regular'],\n",
              " ['11111116', 'Alumno 6', 'TI11', '1', '3', '8', '1', '7', 'regular'],\n",
              " ['11111117', 'Alumno 7', 'TI11', '4', '7', '1', '6', '5', 'regular'],\n",
              " ['11111118', 'Alumno 8', 'TI11', '10', '1', '7', '10', '0', 'regular'],\n",
              " ['11111119', 'Alumno 9', 'TI11', '5', '5', '4', '0', '3', 'regular'],\n",
              " ['11111120', 'Alumno 10', 'TI11', '5', '7', '3', '3', '4', 'regular']]"
            ]
          },
          "metadata": {},
          "execution_count": 7
        }
      ]
    },
    {
      "cell_type": "markdown",
      "source": [
        "Metodos que modifican los algunos campos de la lista"
      ],
      "metadata": {
        "id": "BPaLXJbqvbGD"
      }
    },
    {
      "cell_type": "code",
      "source": [
        "def promedios(list):\n",
        "  return sum(list)/len(list)"
      ],
      "metadata": {
        "id": "MREARhSwNRK1"
      },
      "execution_count": null,
      "outputs": []
    },
    {
      "cell_type": "code",
      "source": [
        "def transformationInt(a):\n",
        "    return int(a)"
      ],
      "metadata": {
        "id": "iLQxlaENNkxn"
      },
      "execution_count": null,
      "outputs": []
    },
    {
      "cell_type": "markdown",
      "source": [
        "Convertir las calificaciones en enteros para posteriormente obtener el promedio de cada Alumno"
      ],
      "metadata": {
        "id": "O2LSyAgrf2bm"
      }
    },
    {
      "cell_type": "code",
      "source": [
        "califications = []\n",
        "averages = []\n",
        "for i in data:\n",
        "  califications.append(list(map(transformationInt,i[3:8])))\n",
        "averages.append(list(map(promedios,califications)))\n",
        "averages[0][:muestreo]"
      ],
      "metadata": {
        "id": "3R8lb3CvNaww",
        "colab": {
          "base_uri": "https://localhost:8080/"
        },
        "outputId": "e2ffd20d-f255-41fa-d15f-b74e65f4efc0"
      },
      "execution_count": null,
      "outputs": [
        {
          "output_type": "execute_result",
          "data": {
            "text/plain": [
              "[3.8, 6.2, 1.8, 4.2, 6.6, 4.0, 4.6, 5.6, 3.4, 4.4]"
            ]
          },
          "metadata": {},
          "execution_count": 10
        }
      ]
    },
    {
      "cell_type": "markdown",
      "source": [
        "Concatenar los datos ya existentes con los promedios recien sacados"
      ],
      "metadata": {
        "id": "GtqcmL4ef3Li"
      }
    },
    {
      "cell_type": "code",
      "source": [
        "for i in range(len(data)):\n",
        "  data[i].append(averages[0][i])\n",
        "data[:muestreo]"
      ],
      "metadata": {
        "id": "m53SvvtGQDuK",
        "colab": {
          "base_uri": "https://localhost:8080/"
        },
        "outputId": "7134de40-a7ca-486b-aa83-ad9bbd6d9814"
      },
      "execution_count": null,
      "outputs": [
        {
          "output_type": "execute_result",
          "data": {
            "text/plain": [
              "[['11111111', 'Alumno 1', 'TI11', '1', '8', '1', '7', '2', 'regular', 3.8],\n",
              " ['11111112', 'Alumno 2', 'TI11', '10', '7', '1', '8', '5', 'regular', 6.2],\n",
              " ['11111113', 'Alumno 3', 'TI11', '4', '1', '1', '3', '0', 'regular', 1.8],\n",
              " ['11111114', 'Alumno 4', 'TI11', '5', '4', '3', '2', '7', 'regular', 4.2],\n",
              " ['11111115', 'Alumno 5', 'TI11', '9', '10', '3', '9', '2', 'regular', 6.6],\n",
              " ['11111116', 'Alumno 6', 'TI11', '1', '3', '8', '1', '7', 'regular', 4.0],\n",
              " ['11111117', 'Alumno 7', 'TI11', '4', '7', '1', '6', '5', 'regular', 4.6],\n",
              " ['11111118', 'Alumno 8', 'TI11', '10', '1', '7', '10', '0', 'regular', 5.6],\n",
              " ['11111119', 'Alumno 9', 'TI11', '5', '5', '4', '0', '3', 'regular', 3.4],\n",
              " ['11111120', 'Alumno 10', 'TI11', '5', '7', '3', '3', '4', 'regular', 4.4]]"
            ]
          },
          "metadata": {},
          "execution_count": 11
        }
      ]
    },
    {
      "cell_type": "markdown",
      "source": [
        "Agregado de Headers en el indice 0"
      ],
      "metadata": {
        "id": "y9cZJ3DLf31k"
      }
    },
    {
      "cell_type": "code",
      "source": [
        "titles = [\"Matricula\",\"Nombre\",\"Grupo\",\"Materia1\",\"Materia2\",\"Materia3\",\"Materia4\",\"Materia5\",\"Estado\",\"Promedio\"]"
      ],
      "metadata": {
        "id": "80UUqXA7Rgax"
      },
      "execution_count": null,
      "outputs": []
    },
    {
      "cell_type": "code",
      "source": [
        "data.insert(0,titles)\n",
        "data[:muestreo]"
      ],
      "metadata": {
        "id": "WY58UrarR0oQ",
        "colab": {
          "base_uri": "https://localhost:8080/"
        },
        "outputId": "6deed912-8327-4a11-f32d-2f648dffdc3d"
      },
      "execution_count": null,
      "outputs": [
        {
          "output_type": "execute_result",
          "data": {
            "text/plain": [
              "[['Matricula',\n",
              "  'Nombre',\n",
              "  'Grupo',\n",
              "  'Materia1',\n",
              "  'Materia2',\n",
              "  'Materia3',\n",
              "  'Materia4',\n",
              "  'Materia5',\n",
              "  'Estado',\n",
              "  'Promedio'],\n",
              " ['11111111', 'Alumno 1', 'TI11', '1', '8', '1', '7', '2', 'regular', 3.8],\n",
              " ['11111112', 'Alumno 2', 'TI11', '10', '7', '1', '8', '5', 'regular', 6.2],\n",
              " ['11111113', 'Alumno 3', 'TI11', '4', '1', '1', '3', '0', 'regular', 1.8],\n",
              " ['11111114', 'Alumno 4', 'TI11', '5', '4', '3', '2', '7', 'regular', 4.2],\n",
              " ['11111115', 'Alumno 5', 'TI11', '9', '10', '3', '9', '2', 'regular', 6.6],\n",
              " ['11111116', 'Alumno 6', 'TI11', '1', '3', '8', '1', '7', 'regular', 4.0],\n",
              " ['11111117', 'Alumno 7', 'TI11', '4', '7', '1', '6', '5', 'regular', 4.6],\n",
              " ['11111118', 'Alumno 8', 'TI11', '10', '1', '7', '10', '0', 'regular', 5.6],\n",
              " ['11111119', 'Alumno 9', 'TI11', '5', '5', '4', '0', '3', 'regular', 3.4]]"
            ]
          },
          "metadata": {},
          "execution_count": 13
        }
      ]
    },
    {
      "cell_type": "markdown",
      "source": [
        "Pasar de lista a array de numpy"
      ],
      "metadata": {
        "id": "ul7uz-h_f48D"
      }
    },
    {
      "cell_type": "code",
      "source": [
        "arrayFinish = np.array(data)\n",
        "arrayFinish[:muestreo]"
      ],
      "metadata": {
        "id": "qQN9I1SeR-YF",
        "colab": {
          "base_uri": "https://localhost:8080/"
        },
        "outputId": "cc4d4d47-0b26-4153-ee44-62024fd8364e"
      },
      "execution_count": null,
      "outputs": [
        {
          "output_type": "execute_result",
          "data": {
            "text/plain": [
              "array([['Matricula', 'Nombre', 'Grupo', 'Materia1', 'Materia2',\n",
              "        'Materia3', 'Materia4', 'Materia5', 'Estado', 'Promedio'],\n",
              "       ['11111111', 'Alumno 1', 'TI11', '1', '8', '1', '7', '2',\n",
              "        'regular', '3.8'],\n",
              "       ['11111112', 'Alumno 2', 'TI11', '10', '7', '1', '8', '5',\n",
              "        'regular', '6.2'],\n",
              "       ['11111113', 'Alumno 3', 'TI11', '4', '1', '1', '3', '0',\n",
              "        'regular', '1.8'],\n",
              "       ['11111114', 'Alumno 4', 'TI11', '5', '4', '3', '2', '7',\n",
              "        'regular', '4.2'],\n",
              "       ['11111115', 'Alumno 5', 'TI11', '9', '10', '3', '9', '2',\n",
              "        'regular', '6.6'],\n",
              "       ['11111116', 'Alumno 6', 'TI11', '1', '3', '8', '1', '7',\n",
              "        'regular', '4.0'],\n",
              "       ['11111117', 'Alumno 7', 'TI11', '4', '7', '1', '6', '5',\n",
              "        'regular', '4.6'],\n",
              "       ['11111118', 'Alumno 8', 'TI11', '10', '1', '7', '10', '0',\n",
              "        'regular', '5.6'],\n",
              "       ['11111119', 'Alumno 9', 'TI11', '5', '5', '4', '0', '3',\n",
              "        'regular', '3.4']], dtype='<U32')"
            ]
          },
          "metadata": {},
          "execution_count": 14
        }
      ]
    },
    {
      "cell_type": "markdown",
      "source": [
        "Exportación a CSV"
      ],
      "metadata": {
        "id": "yu1Ebfa_f5Vg"
      }
    },
    {
      "cell_type": "code",
      "source": [
        "np.savetxt(\"calificaciones_promedio_v1.csv\", arrayFinish,'%s', delimiter=\",\")"
      ],
      "metadata": {
        "id": "G0DVA8ykS7bO"
      },
      "execution_count": null,
      "outputs": []
    },
    {
      "cell_type": "code",
      "source": [
        "calificaciones = np.array(datos[:,3:8],dtype = np.int64)"
      ],
      "metadata": {
        "id": "HPgRaa4j5AKs"
      },
      "execution_count": null,
      "outputs": []
    }
  ]
}